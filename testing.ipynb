{
 "cells": [
  {
   "cell_type": "code",
   "execution_count": 1,
   "metadata": {},
   "outputs": [],
   "source": [
    "from qat.lang import Program\n",
    "\n",
    "my_program = Program()\n",
    "qbits_reg = my_program.qalloc(2)  # Allocate 10 qubits"
   ]
  },
  {
   "cell_type": "code",
   "execution_count": 2,
   "metadata": {},
   "outputs": [
    {
     "name": "stdout",
     "output_type": "stream",
     "text": [
      "State |00> amplitude (0.7510867813961675+0j)\n",
      "State |01> amplitude (0.45563351454945633+0j)\n",
      "State |10> amplitude (0.1437527309325512+0j)\n",
      "State |11> amplitude (0.4556335145494562+0j)\n"
     ]
    }
   ],
   "source": [
    "import kitaev\n",
    "\n",
    "ug = kitaev.GaussianState(0, 1, 2)\n",
    "ug(qbits_reg)\n",
    "result = ug.run()\n",
    "\n",
    "\n",
    "for sample in result:\n",
    "    print(f\"State {sample.state} amplitude {sample.amplitude}\")"
   ]
  },
  {
   "cell_type": "code",
   "execution_count": 2,
   "metadata": {},
   "outputs": [
    {
     "name": "stdout",
     "output_type": "stream",
     "text": [
      "<class 'mpmath.ctx_mp_python.mpf'>\n",
      "<class 'float'>\n",
      "<class 'qat.lang.AQASM.routines.QRoutine'>\n"
     ]
    }
   ],
   "source": [
    "import kitaev\n",
    "\n",
    "print(type(kitaev.JacobiTheta(0,1)))\n",
    "print(type(kitaev.KitaevAngle(0,1)))\n",
    "print(type(kitaev.GaussianState(0,1,2)))"
   ]
  },
  {
   "cell_type": "code",
   "execution_count": 3,
   "metadata": {},
   "outputs": [
    {
     "name": "stdout",
     "output_type": "stream",
     "text": [
      "State |00> amplitude (0.7510867813961675+0j)\n",
      "State |01> amplitude (0.45563351454945633+0j)\n",
      "State |10> amplitude (0.1437527309325512+0j)\n",
      "State |11> amplitude (0.4556335145494562+0j)\n"
     ]
    }
   ],
   "source": [
    "import kitaev\n",
    "\n",
    "result = kitaev.GaussianState(0, 1, 2).run()\n",
    "\n",
    "for sample in result:\n",
    "    print(f\"State {sample.state} amplitude {sample.amplitude}\")"
   ]
  },
  {
   "cell_type": "code",
   "execution_count": null,
   "metadata": {},
   "outputs": [],
   "source": []
  }
 ],
 "metadata": {
  "authors": [
   "Simon Martiel",
   "Jerome Pioux"
  ],
  "kernelspec": {
   "display_name": "Python 3 (ipykernel)",
   "language": "python",
   "name": "python3"
  },
  "language_info": {
   "codemirror_mode": {
    "name": "ipython",
    "version": 3
   },
   "file_extension": ".py",
   "mimetype": "text/x-python",
   "name": "python",
   "nbconvert_exporter": "python",
   "pygments_lexer": "ipython3",
   "version": "3.10.11"
  }
 },
 "nbformat": 4,
 "nbformat_minor": 4
}
